{
  "nbformat": 4,
  "nbformat_minor": 0,
  "metadata": {
    "colab": {
      "name": "Stock_Prediction.ipynb",
      "provenance": [],
      "authorship_tag": "ABX9TyMhosC+eR4fnIwcaX+lZv0u",
      "include_colab_link": true
    },
    "kernelspec": {
      "name": "python3",
      "display_name": "Python 3"
    },
    "accelerator": "GPU"
  },
  "cells": [
    {
      "cell_type": "markdown",
      "metadata": {
        "id": "view-in-github",
        "colab_type": "text"
      },
      "source": [
        "<a href=\"https://colab.research.google.com/github/Samarth-991/TimeSeries/blob/master/Stock_Prediction.ipynb\" target=\"_parent\"><img src=\"https://colab.research.google.com/assets/colab-badge.svg\" alt=\"Open In Colab\"/></a>"
      ]
    },
    {
      "cell_type": "code",
      "metadata": {
        "id": "i1VaXcHMwIZF",
        "colab_type": "code",
        "colab": {
          "base_uri": "https://localhost:8080/",
          "height": 387
        },
        "outputId": "a4d7e4c1-5d8a-4858-8a84-35c9ea3f4858"
      },
      "source": [
        "\n",
        "!pip install yahoo_fin --upgrade\n",
        "!pip install requests_html"
      ],
      "execution_count": null,
      "outputs": [
        {
          "output_type": "stream",
          "text": [
            "Requirement already up-to-date: yahoo_fin in /usr/local/lib/python3.6/dist-packages (0.8.6)\n",
            "Requirement already satisfied: requests_html in /usr/local/lib/python3.6/dist-packages (0.10.0)\n",
            "Requirement already satisfied: bs4 in /usr/local/lib/python3.6/dist-packages (from requests_html) (0.0.1)\n",
            "Requirement already satisfied: fake-useragent in /usr/local/lib/python3.6/dist-packages (from requests_html) (0.1.11)\n",
            "Requirement already satisfied: pyquery in /usr/local/lib/python3.6/dist-packages (from requests_html) (1.4.1)\n",
            "Requirement already satisfied: requests in /usr/local/lib/python3.6/dist-packages (from requests_html) (2.23.0)\n",
            "Requirement already satisfied: w3lib in /usr/local/lib/python3.6/dist-packages (from requests_html) (1.22.0)\n",
            "Requirement already satisfied: pyppeteer>=0.0.14 in /usr/local/lib/python3.6/dist-packages (from requests_html) (0.2.2)\n",
            "Requirement already satisfied: parse in /usr/local/lib/python3.6/dist-packages (from requests_html) (1.16.0)\n",
            "Requirement already satisfied: beautifulsoup4 in /usr/local/lib/python3.6/dist-packages (from bs4->requests_html) (4.6.3)\n",
            "Requirement already satisfied: cssselect>0.7.9 in /usr/local/lib/python3.6/dist-packages (from pyquery->requests_html) (1.1.0)\n",
            "Requirement already satisfied: lxml>=2.1 in /usr/local/lib/python3.6/dist-packages (from pyquery->requests_html) (4.2.6)\n",
            "Requirement already satisfied: urllib3!=1.25.0,!=1.25.1,<1.26,>=1.21.1 in /usr/local/lib/python3.6/dist-packages (from requests->requests_html) (1.25.10)\n",
            "Requirement already satisfied: certifi>=2017.4.17 in /usr/local/lib/python3.6/dist-packages (from requests->requests_html) (2020.6.20)\n",
            "Requirement already satisfied: chardet<4,>=3.0.2 in /usr/local/lib/python3.6/dist-packages (from requests->requests_html) (3.0.4)\n",
            "Requirement already satisfied: idna<3,>=2.5 in /usr/local/lib/python3.6/dist-packages (from requests->requests_html) (2.10)\n",
            "Requirement already satisfied: six>=1.4.1 in /usr/local/lib/python3.6/dist-packages (from w3lib->requests_html) (1.15.0)\n",
            "Requirement already satisfied: pyee<8.0.0,>=7.0.1 in /usr/local/lib/python3.6/dist-packages (from pyppeteer>=0.0.14->requests_html) (7.0.2)\n",
            "Requirement already satisfied: tqdm<5.0.0,>=4.42.1 in /usr/local/lib/python3.6/dist-packages (from pyppeteer>=0.0.14->requests_html) (4.48.2)\n",
            "Requirement already satisfied: websockets<9.0,>=8.1 in /usr/local/lib/python3.6/dist-packages (from pyppeteer>=0.0.14->requests_html) (8.1)\n",
            "Requirement already satisfied: appdirs<2.0.0,>=1.4.3 in /usr/local/lib/python3.6/dist-packages (from pyppeteer>=0.0.14->requests_html) (1.4.4)\n"
          ],
          "name": "stdout"
        }
      ]
    },
    {
      "cell_type": "code",
      "metadata": {
        "id": "kOcTr6r1vtSF",
        "colab_type": "code",
        "colab": {}
      },
      "source": [
        "import pandas as pd \n",
        "import numpy as np\n",
        "import tensorflow as tf\n",
        "from sklearn import preprocessing\n",
        "from sklearn.model_selection import train_test_split\n",
        "from sklearn.metrics import accuracy_score\n",
        "from collections import deque\n",
        "from yahoo_fin import stock_info as si"
      ],
      "execution_count": null,
      "outputs": []
    },
    {
      "cell_type": "code",
      "metadata": {
        "id": "FzPHfztEv3UW",
        "colab_type": "code",
        "colab": {}
      },
      "source": [
        "import numpy as np\n",
        "import pandas as pd\n",
        "import matplotlib.pyplot as plt\n",
        "import time\n",
        "import os\n",
        "import random\n",
        "#https://www.thepythoncode.com/article/stock-price-prediction-in-python-using-tensorflow-2-and-keras"
      ],
      "execution_count": null,
      "outputs": []
    },
    {
      "cell_type": "code",
      "metadata": {
        "id": "zDfKlEC2La_l",
        "colab_type": "code",
        "colab": {}
      },
      "source": [
        "np.random.seed(314)\n",
        "tf.random.set_seed(314)\n",
        "random.seed(314)"
      ],
      "execution_count": null,
      "outputs": []
    },
    {
      "cell_type": "markdown",
      "metadata": {
        "id": "UD1G0UUZRMZo",
        "colab_type": "text"
      },
      "source": [
        "## Load Data function\n",
        "First, it loads the dataset using stock_info.get_data() function in yahoo_fin module.\n",
        "If the scale argument is passed as True, it will scale all the prices from 0 to 1 (including the volume) using the sklearn's MinMaxScaler class. Note that each column has its own scaler.\n",
        "It then adds the future column which indicates the target values (the labels to predict, or the y's) by shifting the adjusted close column by lookup_step.\n",
        "After that, it shuffles and splits the data and returns the result.\n"
      ]
    },
    {
      "cell_type": "code",
      "metadata": {
        "id": "Ey5lIssyLd3E",
        "colab_type": "code",
        "colab": {}
      },
      "source": [
        "def load_data(ticker, n_steps=100, scale=True, shuffle=True, lookup_step=1, \n",
        "                test_size=0.2, feature_columns=['adjclose', 'volume', 'open', 'high', 'low'],save_df=True):\n",
        "    # see if ticker is already a loaded stock from yahoo finance\n",
        "    if isinstance(ticker, str):\n",
        "        # load it from yahoo_fin library\n",
        "        df = si.get_data(ticker)\n",
        "        if save_df:\n",
        "          df.to_csv(ticker+'.csv',index=True)\n",
        "    elif isinstance(ticker, pd.DataFrame):\n",
        "        # already loaded, use it directly\n",
        "        df = ticker\n",
        "    # this will contain all the elements we want to return from this function\n",
        "    result = {}\n",
        "    # we will also return the original dataframe itself\n",
        "    result['df'] = df.copy()\n",
        "    # make sure that the passed feature_columns exist in the dataframe\n",
        "    for col in feature_columns:\n",
        "        assert col in df.columns, f\"'{col}' does not exist in the dataframe.\"\n",
        "    if scale:\n",
        "        column_scaler = {}\n",
        "        # scale the data (prices) from 0 to 1\n",
        "        for column in feature_columns:\n",
        "            scaler = preprocessing.MinMaxScaler()\n",
        "            df[column] = scaler.fit_transform(np.expand_dims(df[column].values, axis=1))\n",
        "            column_scaler[column] = scaler\n",
        "\n",
        "        # add the MinMaxScaler instances to the result returned\n",
        "        result[\"column_scaler\"] = column_scaler\n",
        "    # add the target column (label) by shifting by `lookup_step`\n",
        "    df['future'] = df['adjclose'].shift(-lookup_step)\n",
        "    # last `lookup_step` columns contains NaN in future column\n",
        "    # get them before droping NaNs\n",
        "    last_sequence = np.array(df[feature_columns].tail(lookup_step))\n",
        "    # drop NaNs\n",
        "    df.dropna(inplace=True)\n",
        "    sequence_data = []\n",
        "    sequences = deque(maxlen=n_steps)\n",
        "    for entry, target in zip(df[feature_columns].values, df['future'].values):\n",
        "        sequences.append(entry)\n",
        "        if len(sequences) == n_steps:\n",
        "            sequence_data.append([np.array(sequences), target])\n",
        "    # get the last sequence by appending the last `n_step` sequence with `lookup_step` sequence\n",
        "    # for instance, if n_steps=50 and lookup_step=10, last_sequence should be of 59 (that is 50+10-1) length\n",
        "    # this last_sequence will be used to predict in future dates that are not available in the dataset\n",
        "    last_sequence = list(sequences) + list(last_sequence)\n",
        "    # shift the last sequence by -1\n",
        "    last_sequence = np.array(pd.DataFrame(last_sequence).shift(-1).dropna())\n",
        "    # add to result\n",
        "    result['last_sequence'] = last_sequence\n",
        "    # construct the X's and y's\n",
        "    X, y = [], []\n",
        "    for seq, target in sequence_data:\n",
        "        X.append(seq)\n",
        "        y.append(target)\n",
        "    # convert to numpy arrays\n",
        "    X = np.array(X)\n",
        "    y = np.array(y)\n",
        "    # reshape X to fit the neural network\n",
        "    X = X.reshape((X.shape[0], X.shape[2], X.shape[1]))\n",
        "    # split the dataset\n",
        "    result[\"X_train\"], result[\"X_test\"], result[\"y_train\"], result[\"y_test\"] = train_test_split(X, y, test_size=test_size, shuffle=shuffle)\n",
        "    # return the result\n",
        "    return result\n",
        "N_STEPS=50\n",
        "ticker='ITC.NS'\n",
        "data = load_data(ticker,n_steps=N_STEPS)"
      ],
      "execution_count": null,
      "outputs": []
    },
    {
      "cell_type": "code",
      "metadata": {
        "id": "J40P6gowsoLW",
        "colab_type": "code",
        "colab": {
          "base_uri": "https://localhost:8080/",
          "height": 357
        },
        "outputId": "893b904c-3f89-4342-95ab-1a8f5aff57da"
      },
      "source": [
        "# analysis of the plot \n",
        "stockdf = pd.read_csv(ticker+'.csv')\n",
        "stockdf.tail(10)\n"
      ],
      "execution_count": null,
      "outputs": [
        {
          "output_type": "execute_result",
          "data": {
            "text/html": [
              "<div>\n",
              "<style scoped>\n",
              "    .dataframe tbody tr th:only-of-type {\n",
              "        vertical-align: middle;\n",
              "    }\n",
              "\n",
              "    .dataframe tbody tr th {\n",
              "        vertical-align: top;\n",
              "    }\n",
              "\n",
              "    .dataframe thead th {\n",
              "        text-align: right;\n",
              "    }\n",
              "</style>\n",
              "<table border=\"1\" class=\"dataframe\">\n",
              "  <thead>\n",
              "    <tr style=\"text-align: right;\">\n",
              "      <th></th>\n",
              "      <th>Unnamed: 0</th>\n",
              "      <th>open</th>\n",
              "      <th>high</th>\n",
              "      <th>low</th>\n",
              "      <th>close</th>\n",
              "      <th>adjclose</th>\n",
              "      <th>volume</th>\n",
              "      <th>ticker</th>\n",
              "    </tr>\n",
              "  </thead>\n",
              "  <tbody>\n",
              "    <tr>\n",
              "      <th>6194</th>\n",
              "      <td>2020-07-28</td>\n",
              "      <td>197.000000</td>\n",
              "      <td>198.649994</td>\n",
              "      <td>195.050003</td>\n",
              "      <td>195.399994</td>\n",
              "      <td>195.399994</td>\n",
              "      <td>19287132.0</td>\n",
              "      <td>ITC.NS</td>\n",
              "    </tr>\n",
              "    <tr>\n",
              "      <th>6195</th>\n",
              "      <td>2020-07-29</td>\n",
              "      <td>193.449997</td>\n",
              "      <td>198.199997</td>\n",
              "      <td>193.399994</td>\n",
              "      <td>196.699997</td>\n",
              "      <td>196.699997</td>\n",
              "      <td>14831635.0</td>\n",
              "      <td>ITC.NS</td>\n",
              "    </tr>\n",
              "    <tr>\n",
              "      <th>6196</th>\n",
              "      <td>2020-07-30</td>\n",
              "      <td>198.399994</td>\n",
              "      <td>198.399994</td>\n",
              "      <td>192.500000</td>\n",
              "      <td>193.350006</td>\n",
              "      <td>193.350006</td>\n",
              "      <td>16315231.0</td>\n",
              "      <td>ITC.NS</td>\n",
              "    </tr>\n",
              "    <tr>\n",
              "      <th>6197</th>\n",
              "      <td>2020-07-31</td>\n",
              "      <td>193.500000</td>\n",
              "      <td>196.949997</td>\n",
              "      <td>193.500000</td>\n",
              "      <td>194.149994</td>\n",
              "      <td>194.149994</td>\n",
              "      <td>16652851.0</td>\n",
              "      <td>ITC.NS</td>\n",
              "    </tr>\n",
              "    <tr>\n",
              "      <th>6198</th>\n",
              "      <td>2020-08-03</td>\n",
              "      <td>194.000000</td>\n",
              "      <td>194.000000</td>\n",
              "      <td>191.899994</td>\n",
              "      <td>192.600006</td>\n",
              "      <td>192.600006</td>\n",
              "      <td>13265411.0</td>\n",
              "      <td>ITC.NS</td>\n",
              "    </tr>\n",
              "    <tr>\n",
              "      <th>6199</th>\n",
              "      <td>2020-08-04</td>\n",
              "      <td>192.600006</td>\n",
              "      <td>195.800003</td>\n",
              "      <td>192.600006</td>\n",
              "      <td>193.649994</td>\n",
              "      <td>193.649994</td>\n",
              "      <td>17187619.0</td>\n",
              "      <td>ITC.NS</td>\n",
              "    </tr>\n",
              "    <tr>\n",
              "      <th>6200</th>\n",
              "      <td>2020-08-05</td>\n",
              "      <td>194.500000</td>\n",
              "      <td>194.600006</td>\n",
              "      <td>191.699997</td>\n",
              "      <td>192.800003</td>\n",
              "      <td>192.800003</td>\n",
              "      <td>48768332.0</td>\n",
              "      <td>ITC.NS</td>\n",
              "    </tr>\n",
              "    <tr>\n",
              "      <th>6201</th>\n",
              "      <td>2020-08-06</td>\n",
              "      <td>194.199997</td>\n",
              "      <td>195.600006</td>\n",
              "      <td>193.100006</td>\n",
              "      <td>195.350006</td>\n",
              "      <td>195.350006</td>\n",
              "      <td>17886089.0</td>\n",
              "      <td>ITC.NS</td>\n",
              "    </tr>\n",
              "    <tr>\n",
              "      <th>6202</th>\n",
              "      <td>2020-08-07</td>\n",
              "      <td>195.500000</td>\n",
              "      <td>197.000000</td>\n",
              "      <td>194.149994</td>\n",
              "      <td>196.050003</td>\n",
              "      <td>196.050003</td>\n",
              "      <td>20911818.0</td>\n",
              "      <td>ITC.NS</td>\n",
              "    </tr>\n",
              "    <tr>\n",
              "      <th>6203</th>\n",
              "      <td>2020-08-10</td>\n",
              "      <td>196.399994</td>\n",
              "      <td>199.649994</td>\n",
              "      <td>196.399994</td>\n",
              "      <td>198.350006</td>\n",
              "      <td>198.350006</td>\n",
              "      <td>7397301.0</td>\n",
              "      <td>ITC.NS</td>\n",
              "    </tr>\n",
              "  </tbody>\n",
              "</table>\n",
              "</div>"
            ],
            "text/plain": [
              "      Unnamed: 0        open        high  ...    adjclose      volume  ticker\n",
              "6194  2020-07-28  197.000000  198.649994  ...  195.399994  19287132.0  ITC.NS\n",
              "6195  2020-07-29  193.449997  198.199997  ...  196.699997  14831635.0  ITC.NS\n",
              "6196  2020-07-30  198.399994  198.399994  ...  193.350006  16315231.0  ITC.NS\n",
              "6197  2020-07-31  193.500000  196.949997  ...  194.149994  16652851.0  ITC.NS\n",
              "6198  2020-08-03  194.000000  194.000000  ...  192.600006  13265411.0  ITC.NS\n",
              "6199  2020-08-04  192.600006  195.800003  ...  193.649994  17187619.0  ITC.NS\n",
              "6200  2020-08-05  194.500000  194.600006  ...  192.800003  48768332.0  ITC.NS\n",
              "6201  2020-08-06  194.199997  195.600006  ...  195.350006  17886089.0  ITC.NS\n",
              "6202  2020-08-07  195.500000  197.000000  ...  196.050003  20911818.0  ITC.NS\n",
              "6203  2020-08-10  196.399994  199.649994  ...  198.350006   7397301.0  ITC.NS\n",
              "\n",
              "[10 rows x 8 columns]"
            ]
          },
          "metadata": {
            "tags": []
          },
          "execution_count": 6
        }
      ]
    },
    {
      "cell_type": "code",
      "metadata": {
        "id": "XriVYy3DtR1E",
        "colab_type": "code",
        "colab": {
          "base_uri": "https://localhost:8080/",
          "height": 283
        },
        "outputId": "a40833ae-2d5e-4dd6-e65a-fe748da81064"
      },
      "source": [
        "\n",
        "stockdf['close'].plot()"
      ],
      "execution_count": null,
      "outputs": [
        {
          "output_type": "execute_result",
          "data": {
            "text/plain": [
              "<matplotlib.axes._subplots.AxesSubplot at 0x7f9d9198bbe0>"
            ]
          },
          "metadata": {
            "tags": []
          },
          "execution_count": 7
        },
        {
          "output_type": "display_data",
          "data": {
            "image/png": "[encoded data removed]",
            "text/plain": [
              "<Figure size 432x288 with 1 Axes>"
            ]
          },
          "metadata": {
            "tags": [],
            "needs_background": "light"
          }
        }
      ]
    },
    {
      "cell_type": "code",
      "metadata": {
        "id": "7hjuaGVgLiMP",
        "colab_type": "code",
        "colab": {
          "base_uri": "https://localhost:8080/",
          "height": 87
        },
        "outputId": "5bbd2dc8-8e95-4ad4-c87c-7141cd74e0a0"
      },
      "source": [
        "X_train = data['X_train']\n",
        "X_test = data['X_test']\n",
        "y_train = data['y_train']\n",
        "y_test = data['y_test']\n",
        "print (data['X_train'].shape)\n",
        "print (data['X_test'].shape)\n",
        "print (data['y_train'].shape)\n",
        "print (data['y_test'].shape)"
      ],
      "execution_count": null,
      "outputs": [
        {
          "output_type": "stream",
          "text": [
            "(4732, 5, 50)\n",
            "(1183, 5, 50)\n",
            "(4732,)\n",
            "(1183,)\n"
          ],
          "name": "stdout"
        }
      ]
    },
    {
      "cell_type": "code",
      "metadata": {
        "id": "PPTetUMBPLTt",
        "colab_type": "code",
        "colab": {}
      },
      "source": [
        "from tensorflow.keras.models import Sequential\n",
        "from tensorflow.keras.layers import LSTM, Dense, Dropout, Bidirectional,Input,GRU\n",
        "from tensorflow.keras.callbacks import ModelCheckpoint, TensorBoard\n",
        "from tensorflow.keras.models import Model\n",
        "from tensorflow.keras.regularizers import l2\n",
        "from tensorflow.keras.optimizers import SGD,Adam\n"
      ],
      "execution_count": null,
      "outputs": []
    },
    {
      "cell_type": "code",
      "metadata": {
        "id": "pF4H6pcRTvap",
        "colab_type": "code",
        "colab": {}
      },
      "source": [
        "i = Input(shape=(X_train.shape[1],X_train.shape[2]))\n",
        "layer1 = Bidirectional(LSTM(512,kernel_regularizer=l2(0.01),return_sequences=True))(i)\n",
        "layer2 = Bidirectional(LSTM(512,kernel_regularizer=l2(0.01),return_sequences=True))(layer1)\n",
        "layer3= Bidirectional(LSTM(128,return_sequences=False))(layer2)\n",
        "output =Dense(1,activation='linear')(layer3)\n",
        "model = Model(i,output) \n",
        "model.compile(loss='mean_absolute_error',metrics=[\"mean_absolute_error\"], optimizer='rmsprop')"
      ],
      "execution_count": null,
      "outputs": []
    },
    {
      "cell_type": "code",
      "metadata": {
        "id": "kGI9s-_10f9C",
        "colab_type": "code",
        "colab": {}
      },
      "source": [
        "tensorboard = TensorBoard(log_dir=os.path.join(\"logs\", \"STOCK_model\"))"
      ],
      "execution_count": null,
      "outputs": []
    },
    {
      "cell_type": "code",
      "metadata": {
        "id": "12J6SEO6bxr7",
        "colab_type": "code",
        "colab": {
          "base_uri": "https://localhost:8080/",
          "height": 850
        },
        "outputId": "54017d3c-850c-4593-f837-9ca6ac03484e"
      },
      "source": [
        "model.summary()\n",
        "from keras.utils import plot_model\n",
        "plot_model(model, show_layer_names=True, show_shapes=True)"
      ],
      "execution_count": null,
      "outputs": [
        {
          "output_type": "stream",
          "text": [
            "Model: \"functional_1\"\n",
            "_________________________________________________________________\n",
            "Layer (type)                 Output Shape              Param #   \n",
            "=================================================================\n",
            "input_1 (InputLayer)         [(None, 5, 50)]           0         \n",
            "_________________________________________________________________\n",
            "bidirectional (Bidirectional (None, 5, 1024)           2306048   \n",
            "_________________________________________________________________\n",
            "bidirectional_1 (Bidirection (None, 5, 1024)           6295552   \n",
            "_________________________________________________________________\n",
            "bidirectional_2 (Bidirection (None, 256)               1180672   \n",
            "_________________________________________________________________\n",
            "dense (Dense)                (None, 1)                 257       \n",
            "=================================================================\n",
            "Total params: 9,782,529\n",
            "Trainable params: 9,782,529\n",
            "Non-trainable params: 0\n",
            "_________________________________________________________________\n"
          ],
          "name": "stdout"
        },
        {
          "output_type": "execute_result",
          "data": {
            "image/png": "[encoded data removed]",
            "text/plain": [
              "<IPython.core.display.Image object>"
            ]
          },
          "metadata": {
            "tags": []
          },
          "execution_count": 12
        }
      ]
    },
    {
      "cell_type": "code",
      "metadata": {
        "id": "lZsqb1tjdPu2",
        "colab_type": "code",
        "colab": {
          "base_uri": "https://localhost:8080/",
          "height": 1000
        },
        "outputId": "52f17302-eff8-4436-97bb-dd46f2130777"
      },
      "source": [
        "BATCH_SIZE = 256\n",
        "EPOCHS = 200\n",
        "H = model.fit(data[\"X_train\"], data[\"y_train\"],\n",
        "                    batch_size=BATCH_SIZE,callbacks=[tensorboard],\n",
        "                    epochs=EPOCHS,validation_split=0.3)\n"
      ],
      "execution_count": null,
      "outputs": [
        {
          "output_type": "stream",
          "text": [
            "Epoch 1/200\n",
            " 1/13 [=>............................] - ETA: 0s - loss: 29.5197 - mean_absolute_error: 0.2742WARNING:tensorflow:From /usr/local/lib/python3.6/dist-packages/tensorflow/python/ops/summary_ops_v2.py:1277: stop (from tensorflow.python.eager.profiler) is deprecated and will be removed after 2020-07-01.\n",
            "Instructions for updating:\n",
            "use `tf.profiler.experimental.stop` instead.\n",
            " 2/13 [===>..........................] - ETA: 0s - loss: 27.4182 - mean_absolute_error: 0.8441WARNING:tensorflow:Callbacks method `on_train_batch_end` is slow compared to the batch time (batch time: 0.0344s vs `on_train_batch_end` time: 0.1065s). Check your callbacks.\n",
            "13/13 [==============================] - 2s 173ms/step - loss: 15.4997 - mean_absolute_error: 0.3293 - val_loss: 7.2670 - val_mean_absolute_error: 0.1542\n",
            "Epoch 2/200\n",
            "13/13 [==============================] - 0s 36ms/step - loss: 4.4443 - mean_absolute_error: 0.1071 - val_loss: 2.2495 - val_mean_absolute_error: 0.1868\n",
            "Epoch 3/200\n",
            "13/13 [==============================] - 0s 36ms/step - loss: 1.2940 - mean_absolute_error: 0.1192 - val_loss: 0.6425 - val_mean_absolute_error: 0.1422\n",
            "Epoch 4/200\n",
            "13/13 [==============================] - 0s 35ms/step - loss: 0.3884 - mean_absolute_error: 0.0926 - val_loss: 0.2013 - val_mean_absolute_error: 0.0429\n",
            "Epoch 5/200\n",
            "13/13 [==============================] - 0s 36ms/step - loss: 0.2071 - mean_absolute_error: 0.0880 - val_loss: 0.1396 - val_mean_absolute_error: 0.0487\n",
            "Epoch 6/200\n",
            "13/13 [==============================] - 0s 37ms/step - loss: 0.1536 - mean_absolute_error: 0.0771 - val_loss: 0.1887 - val_mean_absolute_error: 0.1257\n",
            "Epoch 7/200\n",
            "13/13 [==============================] - 0s 38ms/step - loss: 0.1356 - mean_absolute_error: 0.0778 - val_loss: 0.1508 - val_mean_absolute_error: 0.1003\n",
            "Epoch 8/200\n",
            "13/13 [==============================] - 0s 37ms/step - loss: 0.1029 - mean_absolute_error: 0.0570 - val_loss: 0.1543 - val_mean_absolute_error: 0.1128\n",
            "Epoch 9/200\n",
            "13/13 [==============================] - 0s 37ms/step - loss: 0.1227 - mean_absolute_error: 0.0770 - val_loss: 0.1189 - val_mean_absolute_error: 0.0801\n",
            "Epoch 10/200\n",
            "13/13 [==============================] - 0s 37ms/step - loss: 0.0991 - mean_absolute_error: 0.0611 - val_loss: 0.1529 - val_mean_absolute_error: 0.1169\n",
            "Epoch 11/200\n",
            "13/13 [==============================] - 0s 37ms/step - loss: 0.0934 - mean_absolute_error: 0.0584 - val_loss: 0.0806 - val_mean_absolute_error: 0.0436\n",
            "Epoch 12/200\n",
            "13/13 [==============================] - 0s 36ms/step - loss: 0.0990 - mean_absolute_error: 0.0629 - val_loss: 0.1401 - val_mean_absolute_error: 0.1008\n",
            "Epoch 13/200\n",
            "13/13 [==============================] - 0s 36ms/step - loss: 0.0812 - mean_absolute_error: 0.0501 - val_loss: 0.1069 - val_mean_absolute_error: 0.0797\n",
            "Epoch 14/200\n",
            "13/13 [==============================] - 0s 36ms/step - loss: 0.0887 - mean_absolute_error: 0.0570 - val_loss: 0.0920 - val_mean_absolute_error: 0.0629\n",
            "Epoch 15/200\n",
            "13/13 [==============================] - 0s 36ms/step - loss: 0.0898 - mean_absolute_error: 0.0586 - val_loss: 0.0834 - val_mean_absolute_error: 0.0570\n",
            "Epoch 16/200\n",
            "13/13 [==============================] - 0s 36ms/step - loss: 0.0760 - mean_absolute_error: 0.0486 - val_loss: 0.0727 - val_mean_absolute_error: 0.0432\n",
            "Epoch 17/200\n",
            "13/13 [==============================] - 0s 36ms/step - loss: 0.0790 - mean_absolute_error: 0.0508 - val_loss: 0.0900 - val_mean_absolute_error: 0.0633\n",
            "Epoch 18/200\n",
            "13/13 [==============================] - 0s 37ms/step - loss: 0.0778 - mean_absolute_error: 0.0503 - val_loss: 0.0673 - val_mean_absolute_error: 0.0401\n",
            "Epoch 19/200\n",
            "13/13 [==============================] - 0s 37ms/step - loss: 0.0715 - mean_absolute_error: 0.0448 - val_loss: 0.1207 - val_mean_absolute_error: 0.0883\n",
            "Epoch 20/200\n",
            "13/13 [==============================] - 0s 37ms/step - loss: 0.0739 - mean_absolute_error: 0.0470 - val_loss: 0.0651 - val_mean_absolute_error: 0.0406\n",
            "Epoch 21/200\n",
            "13/13 [==============================] - 0s 36ms/step - loss: 0.0774 - mean_absolute_error: 0.0500 - val_loss: 0.0643 - val_mean_absolute_error: 0.0427\n",
            "Epoch 22/200\n",
            "13/13 [==============================] - 0s 37ms/step - loss: 0.0754 - mean_absolute_error: 0.0489 - val_loss: 0.0579 - val_mean_absolute_error: 0.0325\n",
            "Epoch 23/200\n",
            "13/13 [==============================] - 0s 37ms/step - loss: 0.0595 - mean_absolute_error: 0.0365 - val_loss: 0.1108 - val_mean_absolute_error: 0.0846\n",
            "Epoch 24/200\n",
            "13/13 [==============================] - 0s 37ms/step - loss: 0.0720 - mean_absolute_error: 0.0464 - val_loss: 0.0506 - val_mean_absolute_error: 0.0282\n",
            "Epoch 25/200\n",
            "13/13 [==============================] - 0s 38ms/step - loss: 0.0712 - mean_absolute_error: 0.0453 - val_loss: 0.0632 - val_mean_absolute_error: 0.0427\n",
            "Epoch 26/200\n",
            "13/13 [==============================] - 0s 37ms/step - loss: 0.0682 - mean_absolute_error: 0.0434 - val_loss: 0.0600 - val_mean_absolute_error: 0.0366\n",
            "Epoch 27/200\n",
            "13/13 [==============================] - 0s 38ms/step - loss: 0.0649 - mean_absolute_error: 0.0412 - val_loss: 0.0723 - val_mean_absolute_error: 0.0489\n",
            "Epoch 28/200\n",
            "13/13 [==============================] - 0s 37ms/step - loss: 0.0656 - mean_absolute_error: 0.0414 - val_loss: 0.0620 - val_mean_absolute_error: 0.0382\n",
            "Epoch 29/200\n",
            "13/13 [==============================] - 0s 37ms/step - loss: 0.0674 - mean_absolute_error: 0.0428 - val_loss: 0.0560 - val_mean_absolute_error: 0.0348\n",
            "Epoch 30/200\n",
            "13/13 [==============================] - 0s 37ms/step - loss: 0.0649 - mean_absolute_error: 0.0407 - val_loss: 0.0485 - val_mean_absolute_error: 0.0272\n",
            "Epoch 31/200\n",
            "13/13 [==============================] - 0s 37ms/step - loss: 0.0686 - mean_absolute_error: 0.0427 - val_loss: 0.1340 - val_mean_absolute_error: 0.0939\n",
            "Epoch 32/200\n",
            "13/13 [==============================] - 0s 37ms/step - loss: 0.0602 - mean_absolute_error: 0.0376 - val_loss: 0.0487 - val_mean_absolute_error: 0.0281\n",
            "Epoch 33/200\n",
            "13/13 [==============================] - 0s 37ms/step - loss: 0.0670 - mean_absolute_error: 0.0426 - val_loss: 0.0536 - val_mean_absolute_error: 0.0340\n",
            "Epoch 34/200\n",
            "13/13 [==============================] - 0s 37ms/step - loss: 0.0606 - mean_absolute_error: 0.0387 - val_loss: 0.1038 - val_mean_absolute_error: 0.0664\n",
            "Epoch 35/200\n",
            "13/13 [==============================] - 0s 37ms/step - loss: 0.0597 - mean_absolute_error: 0.0369 - val_loss: 0.0574 - val_mean_absolute_error: 0.0385\n",
            "Epoch 36/200\n",
            "13/13 [==============================] - 0s 37ms/step - loss: 0.0705 - mean_absolute_error: 0.0455 - val_loss: 0.0480 - val_mean_absolute_error: 0.0277\n",
            "Epoch 37/200\n",
            "13/13 [==============================] - 0s 37ms/step - loss: 0.0501 - mean_absolute_error: 0.0302 - val_loss: 0.0912 - val_mean_absolute_error: 0.0695\n",
            "Epoch 38/200\n",
            "13/13 [==============================] - 0s 37ms/step - loss: 0.0690 - mean_absolute_error: 0.0443 - val_loss: 0.0527 - val_mean_absolute_error: 0.0326\n",
            "Epoch 39/200\n",
            "13/13 [==============================] - 0s 37ms/step - loss: 0.0649 - mean_absolute_error: 0.0413 - val_loss: 0.0493 - val_mean_absolute_error: 0.0300\n",
            "Epoch 40/200\n",
            "13/13 [==============================] - 0s 36ms/step - loss: 0.0537 - mean_absolute_error: 0.0333 - val_loss: 0.0775 - val_mean_absolute_error: 0.0491\n",
            "Epoch 41/200\n",
            "13/13 [==============================] - 0s 38ms/step - loss: 0.0614 - mean_absolute_error: 0.0391 - val_loss: 0.0552 - val_mean_absolute_error: 0.0366\n",
            "Epoch 42/200\n",
            "13/13 [==============================] - 0s 37ms/step - loss: 0.0614 - mean_absolute_error: 0.0382 - val_loss: 0.0436 - val_mean_absolute_error: 0.0241\n",
            "Epoch 43/200\n",
            "13/13 [==============================] - 0s 37ms/step - loss: 0.0632 - mean_absolute_error: 0.0399 - val_loss: 0.1031 - val_mean_absolute_error: 0.0711\n",
            "Epoch 44/200\n",
            "13/13 [==============================] - 0s 37ms/step - loss: 0.0533 - mean_absolute_error: 0.0330 - val_loss: 0.0470 - val_mean_absolute_error: 0.0275\n",
            "Epoch 45/200\n",
            "13/13 [==============================] - 0s 37ms/step - loss: 0.0668 - mean_absolute_error: 0.0426 - val_loss: 0.0430 - val_mean_absolute_error: 0.0241\n",
            "Epoch 46/200\n",
            "13/13 [==============================] - 0s 36ms/step - loss: 0.0491 - mean_absolute_error: 0.0303 - val_loss: 0.0516 - val_mean_absolute_error: 0.0294\n",
            "Epoch 47/200\n",
            "13/13 [==============================] - 0s 38ms/step - loss: 0.0582 - mean_absolute_error: 0.0354 - val_loss: 0.0419 - val_mean_absolute_error: 0.0238\n",
            "Epoch 48/200\n",
            "13/13 [==============================] - 0s 37ms/step - loss: 0.0660 - mean_absolute_error: 0.0426 - val_loss: 0.0554 - val_mean_absolute_error: 0.0290\n",
            "Epoch 49/200\n",
            "13/13 [==============================] - 0s 37ms/step - loss: 0.0486 - mean_absolute_error: 0.0295 - val_loss: 0.0510 - val_mean_absolute_error: 0.0330\n",
            "Epoch 50/200\n",
            "13/13 [==============================] - 0s 38ms/step - loss: 0.0654 - mean_absolute_error: 0.0420 - val_loss: 0.0423 - val_mean_absolute_error: 0.0235\n",
            "Epoch 51/200\n",
            "13/13 [==============================] - 0s 36ms/step - loss: 0.0469 - mean_absolute_error: 0.0286 - val_loss: 0.0560 - val_mean_absolute_error: 0.0370\n",
            "Epoch 52/200\n",
            "13/13 [==============================] - 0s 36ms/step - loss: 0.0638 - mean_absolute_error: 0.0402 - val_loss: 0.0487 - val_mean_absolute_error: 0.0301\n",
            "Epoch 53/200\n",
            "13/13 [==============================] - 0s 36ms/step - loss: 0.0542 - mean_absolute_error: 0.0346 - val_loss: 0.0993 - val_mean_absolute_error: 0.0676\n",
            "Epoch 54/200\n",
            "13/13 [==============================] - 0s 36ms/step - loss: 0.0567 - mean_absolute_error: 0.0354 - val_loss: 0.0457 - val_mean_absolute_error: 0.0269\n",
            "Epoch 55/200\n",
            "13/13 [==============================] - 0s 36ms/step - loss: 0.0600 - mean_absolute_error: 0.0375 - val_loss: 0.0479 - val_mean_absolute_error: 0.0305\n",
            "Epoch 56/200\n",
            "13/13 [==============================] - 0s 36ms/step - loss: 0.0482 - mean_absolute_error: 0.0299 - val_loss: 0.0672 - val_mean_absolute_error: 0.0403\n",
            "Epoch 57/200\n",
            "13/13 [==============================] - 0s 37ms/step - loss: 0.0592 - mean_absolute_error: 0.0364 - val_loss: 0.0478 - val_mean_absolute_error: 0.0308\n",
            "Epoch 58/200\n",
            "13/13 [==============================] - 0s 36ms/step - loss: 0.0589 - mean_absolute_error: 0.0386 - val_loss: 0.0839 - val_mean_absolute_error: 0.0461\n",
            "Epoch 59/200\n",
            "13/13 [==============================] - 0s 36ms/step - loss: 0.0514 - mean_absolute_error: 0.0313 - val_loss: 0.0556 - val_mean_absolute_error: 0.0386\n",
            "Epoch 60/200\n",
            "13/13 [==============================] - 0s 37ms/step - loss: 0.0631 - mean_absolute_error: 0.0404 - val_loss: 0.0445 - val_mean_absolute_error: 0.0262\n",
            "Epoch 61/200\n",
            "13/13 [==============================] - 0s 37ms/step - loss: 0.0448 - mean_absolute_error: 0.0272 - val_loss: 0.0481 - val_mean_absolute_error: 0.0299\n",
            "Epoch 62/200\n",
            "13/13 [==============================] - 0s 37ms/step - loss: 0.0629 - mean_absolute_error: 0.0401 - val_loss: 0.0434 - val_mean_absolute_error: 0.0256\n",
            "Epoch 63/200\n",
            "13/13 [==============================] - 0s 37ms/step - loss: 0.0450 - mean_absolute_error: 0.0272 - val_loss: 0.0487 - val_mean_absolute_error: 0.0299\n",
            "Epoch 64/200\n",
            "13/13 [==============================] - 0s 37ms/step - loss: 0.0639 - mean_absolute_error: 0.0413 - val_loss: 0.0409 - val_mean_absolute_error: 0.0232\n",
            "Epoch 65/200\n",
            "13/13 [==============================] - 0s 37ms/step - loss: 0.0466 - mean_absolute_error: 0.0286 - val_loss: 0.0719 - val_mean_absolute_error: 0.0515\n",
            "Epoch 66/200\n",
            "13/13 [==============================] - 0s 36ms/step - loss: 0.0578 - mean_absolute_error: 0.0361 - val_loss: 0.0449 - val_mean_absolute_error: 0.0272\n",
            "Epoch 67/200\n",
            "13/13 [==============================] - 0s 36ms/step - loss: 0.0565 - mean_absolute_error: 0.0358 - val_loss: 0.0914 - val_mean_absolute_error: 0.0653\n",
            "Epoch 68/200\n",
            "13/13 [==============================] - 0s 37ms/step - loss: 0.0477 - mean_absolute_error: 0.0292 - val_loss: 0.0493 - val_mean_absolute_error: 0.0312\n",
            "Epoch 69/200\n",
            "13/13 [==============================] - 0s 37ms/step - loss: 0.0594 - mean_absolute_error: 0.0377 - val_loss: 0.0824 - val_mean_absolute_error: 0.0578\n",
            "Epoch 70/200\n",
            "13/13 [==============================] - 0s 37ms/step - loss: 0.0470 - mean_absolute_error: 0.0290 - val_loss: 0.0476 - val_mean_absolute_error: 0.0292\n",
            "Epoch 71/200\n",
            "13/13 [==============================] - 0s 37ms/step - loss: 0.0590 - mean_absolute_error: 0.0371 - val_loss: 0.0455 - val_mean_absolute_error: 0.0287\n",
            "Epoch 72/200\n",
            "13/13 [==============================] - 0s 37ms/step - loss: 0.0461 - mean_absolute_error: 0.0288 - val_loss: 0.0474 - val_mean_absolute_error: 0.0273\n",
            "Epoch 73/200\n",
            "13/13 [==============================] - 0s 36ms/step - loss: 0.0573 - mean_absolute_error: 0.0363 - val_loss: 0.0451 - val_mean_absolute_error: 0.0287\n",
            "Epoch 74/200\n",
            "13/13 [==============================] - 0s 37ms/step - loss: 0.0545 - mean_absolute_error: 0.0350 - val_loss: 0.0765 - val_mean_absolute_error: 0.0425\n",
            "Epoch 75/200\n",
            "13/13 [==============================] - 0s 37ms/step - loss: 0.0474 - mean_absolute_error: 0.0283 - val_loss: 0.0560 - val_mean_absolute_error: 0.0395\n",
            "Epoch 76/200\n",
            "13/13 [==============================] - 0s 37ms/step - loss: 0.0589 - mean_absolute_error: 0.0378 - val_loss: 0.0425 - val_mean_absolute_error: 0.0246\n",
            "Epoch 77/200\n",
            "13/13 [==============================] - 0s 36ms/step - loss: 0.0430 - mean_absolute_error: 0.0257 - val_loss: 0.0426 - val_mean_absolute_error: 0.0239\n",
            "Epoch 78/200\n",
            "13/13 [==============================] - 0s 37ms/step - loss: 0.0611 - mean_absolute_error: 0.0386 - val_loss: 0.0400 - val_mean_absolute_error: 0.0229\n",
            "Epoch 79/200\n",
            "13/13 [==============================] - 0s 36ms/step - loss: 0.0416 - mean_absolute_error: 0.0246 - val_loss: 0.0558 - val_mean_absolute_error: 0.0384\n",
            "Epoch 80/200\n",
            "13/13 [==============================] - 0s 37ms/step - loss: 0.0593 - mean_absolute_error: 0.0379 - val_loss: 0.0471 - val_mean_absolute_error: 0.0297\n",
            "Epoch 81/200\n",
            "13/13 [==============================] - 0s 37ms/step - loss: 0.0432 - mean_absolute_error: 0.0261 - val_loss: 0.0417 - val_mean_absolute_error: 0.0234\n",
            "Epoch 82/200\n",
            "13/13 [==============================] - 0s 37ms/step - loss: 0.0617 - mean_absolute_error: 0.0394 - val_loss: 0.0417 - val_mean_absolute_error: 0.0247\n",
            "Epoch 83/200\n",
            "13/13 [==============================] - 0s 37ms/step - loss: 0.0421 - mean_absolute_error: 0.0252 - val_loss: 0.0532 - val_mean_absolute_error: 0.0361\n",
            "Epoch 84/200\n",
            "13/13 [==============================] - 0s 37ms/step - loss: 0.0598 - mean_absolute_error: 0.0386 - val_loss: 0.0397 - val_mean_absolute_error: 0.0226\n",
            "Epoch 85/200\n",
            "13/13 [==============================] - 0s 37ms/step - loss: 0.0429 - mean_absolute_error: 0.0257 - val_loss: 0.0568 - val_mean_absolute_error: 0.0385\n",
            "Epoch 86/200\n",
            "13/13 [==============================] - 0s 38ms/step - loss: 0.0581 - mean_absolute_error: 0.0376 - val_loss: 0.0415 - val_mean_absolute_error: 0.0241\n",
            "Epoch 87/200\n",
            "13/13 [==============================] - 0s 37ms/step - loss: 0.0444 - mean_absolute_error: 0.0265 - val_loss: 0.0509 - val_mean_absolute_error: 0.0317\n",
            "Epoch 88/200\n",
            "13/13 [==============================] - 0s 37ms/step - loss: 0.0548 - mean_absolute_error: 0.0348 - val_loss: 0.0414 - val_mean_absolute_error: 0.0243\n",
            "Epoch 89/200\n",
            "13/13 [==============================] - 0s 36ms/step - loss: 0.0513 - mean_absolute_error: 0.0322 - val_loss: 0.0786 - val_mean_absolute_error: 0.0549\n",
            "Epoch 90/200\n",
            "13/13 [==============================] - 0s 37ms/step - loss: 0.0470 - mean_absolute_error: 0.0288 - val_loss: 0.0417 - val_mean_absolute_error: 0.0240\n",
            "Epoch 91/200\n",
            "13/13 [==============================] - 0s 37ms/step - loss: 0.0505 - mean_absolute_error: 0.0306 - val_loss: 0.0944 - val_mean_absolute_error: 0.0691\n",
            "Epoch 92/200\n",
            "13/13 [==============================] - 0s 38ms/step - loss: 0.0485 - mean_absolute_error: 0.0306 - val_loss: 0.0400 - val_mean_absolute_error: 0.0225\n",
            "Epoch 93/200\n",
            "13/13 [==============================] - 0s 37ms/step - loss: 0.0579 - mean_absolute_error: 0.0369 - val_loss: 0.0425 - val_mean_absolute_error: 0.0264\n",
            "Epoch 94/200\n",
            "13/13 [==============================] - 0s 37ms/step - loss: 0.0419 - mean_absolute_error: 0.0254 - val_loss: 0.0468 - val_mean_absolute_error: 0.0285\n",
            "Epoch 95/200\n",
            "13/13 [==============================] - 0s 38ms/step - loss: 0.0555 - mean_absolute_error: 0.0352 - val_loss: 0.0431 - val_mean_absolute_error: 0.0273\n",
            "Epoch 96/200\n",
            "13/13 [==============================] - 0s 38ms/step - loss: 0.0481 - mean_absolute_error: 0.0305 - val_loss: 0.0644 - val_mean_absolute_error: 0.0409\n",
            "Epoch 97/200\n",
            "13/13 [==============================] - 0s 38ms/step - loss: 0.0478 - mean_absolute_error: 0.0293 - val_loss: 0.0450 - val_mean_absolute_error: 0.0281\n",
            "Epoch 98/200\n",
            "13/13 [==============================] - 0s 38ms/step - loss: 0.0542 - mean_absolute_error: 0.0344 - val_loss: 0.0582 - val_mean_absolute_error: 0.0367\n",
            "Epoch 99/200\n",
            "13/13 [==============================] - 0s 38ms/step - loss: 0.0428 - mean_absolute_error: 0.0252 - val_loss: 0.0579 - val_mean_absolute_error: 0.0402\n",
            "Epoch 100/200\n",
            "13/13 [==============================] - 0s 38ms/step - loss: 0.0582 - mean_absolute_error: 0.0375 - val_loss: 0.0391 - val_mean_absolute_error: 0.0224\n",
            "Epoch 101/200\n",
            "13/13 [==============================] - 0s 38ms/step - loss: 0.0422 - mean_absolute_error: 0.0256 - val_loss: 0.0562 - val_mean_absolute_error: 0.0378\n",
            "Epoch 102/200\n",
            "13/13 [==============================] - 0s 38ms/step - loss: 0.0538 - mean_absolute_error: 0.0342 - val_loss: 0.0399 - val_mean_absolute_error: 0.0225\n",
            "Epoch 103/200\n",
            "13/13 [==============================] - 0s 38ms/step - loss: 0.0454 - mean_absolute_error: 0.0272 - val_loss: 0.0531 - val_mean_absolute_error: 0.0349\n",
            "Epoch 104/200\n",
            "13/13 [==============================] - 0s 38ms/step - loss: 0.0487 - mean_absolute_error: 0.0300 - val_loss: 0.0420 - val_mean_absolute_error: 0.0242\n",
            "Epoch 105/200\n",
            "13/13 [==============================] - 0s 38ms/step - loss: 0.0524 - mean_absolute_error: 0.0335 - val_loss: 0.0618 - val_mean_absolute_error: 0.0423\n",
            "Epoch 106/200\n",
            "13/13 [==============================] - 0s 38ms/step - loss: 0.0446 - mean_absolute_error: 0.0267 - val_loss: 0.0441 - val_mean_absolute_error: 0.0256\n",
            "Epoch 107/200\n",
            "13/13 [==============================] - 0s 38ms/step - loss: 0.0530 - mean_absolute_error: 0.0337 - val_loss: 0.0380 - val_mean_absolute_error: 0.0214\n",
            "Epoch 108/200\n",
            "13/13 [==============================] - 0s 37ms/step - loss: 0.0440 - mean_absolute_error: 0.0264 - val_loss: 0.0437 - val_mean_absolute_error: 0.0246\n",
            "Epoch 109/200\n",
            "13/13 [==============================] - 0s 37ms/step - loss: 0.0551 - mean_absolute_error: 0.0353 - val_loss: 0.0401 - val_mean_absolute_error: 0.0241\n",
            "Epoch 110/200\n",
            "13/13 [==============================] - 0s 37ms/step - loss: 0.0439 - mean_absolute_error: 0.0270 - val_loss: 0.0477 - val_mean_absolute_error: 0.0286\n",
            "Epoch 111/200\n",
            "13/13 [==============================] - 0s 37ms/step - loss: 0.0508 - mean_absolute_error: 0.0315 - val_loss: 0.0407 - val_mean_absolute_error: 0.0249\n",
            "Epoch 112/200\n",
            "13/13 [==============================] - 0s 38ms/step - loss: 0.0459 - mean_absolute_error: 0.0281 - val_loss: 0.0594 - val_mean_absolute_error: 0.0377\n",
            "Epoch 113/200\n",
            "13/13 [==============================] - 0s 37ms/step - loss: 0.0491 - mean_absolute_error: 0.0308 - val_loss: 0.0445 - val_mean_absolute_error: 0.0275\n",
            "Epoch 114/200\n",
            "13/13 [==============================] - 0s 37ms/step - loss: 0.0519 - mean_absolute_error: 0.0327 - val_loss: 0.0576 - val_mean_absolute_error: 0.0361\n",
            "Epoch 115/200\n",
            "13/13 [==============================] - 0s 37ms/step - loss: 0.0426 - mean_absolute_error: 0.0256 - val_loss: 0.0491 - val_mean_absolute_error: 0.0317\n",
            "Epoch 116/200\n",
            "13/13 [==============================] - 0s 37ms/step - loss: 0.0532 - mean_absolute_error: 0.0338 - val_loss: 0.0388 - val_mean_absolute_error: 0.0218\n",
            "Epoch 117/200\n",
            "13/13 [==============================] - 0s 37ms/step - loss: 0.0437 - mean_absolute_error: 0.0263 - val_loss: 0.0463 - val_mean_absolute_error: 0.0279\n",
            "Epoch 118/200\n",
            "13/13 [==============================] - 0s 37ms/step - loss: 0.0430 - mean_absolute_error: 0.0252 - val_loss: 0.1070 - val_mean_absolute_error: 0.0840\n",
            "Epoch 119/200\n",
            "13/13 [==============================] - 0s 37ms/step - loss: 0.0527 - mean_absolute_error: 0.0337 - val_loss: 0.0534 - val_mean_absolute_error: 0.0378\n",
            "Epoch 120/200\n",
            "13/13 [==============================] - 0s 38ms/step - loss: 0.0508 - mean_absolute_error: 0.0330 - val_loss: 0.0477 - val_mean_absolute_error: 0.0285\n",
            "Epoch 121/200\n",
            "13/13 [==============================] - 0s 37ms/step - loss: 0.0458 - mean_absolute_error: 0.0278 - val_loss: 0.0498 - val_mean_absolute_error: 0.0333\n",
            "Epoch 122/200\n",
            "13/13 [==============================] - 0s 37ms/step - loss: 0.0518 - mean_absolute_error: 0.0331 - val_loss: 0.0716 - val_mean_absolute_error: 0.0465\n",
            "Epoch 123/200\n",
            "13/13 [==============================] - 0s 37ms/step - loss: 0.0438 - mean_absolute_error: 0.0267 - val_loss: 0.0404 - val_mean_absolute_error: 0.0239\n",
            "Epoch 124/200\n",
            "13/13 [==============================] - 0s 37ms/step - loss: 0.0483 - mean_absolute_error: 0.0300 - val_loss: 0.0666 - val_mean_absolute_error: 0.0453\n",
            "Epoch 125/200\n",
            "13/13 [==============================] - 0s 37ms/step - loss: 0.0455 - mean_absolute_error: 0.0278 - val_loss: 0.0438 - val_mean_absolute_error: 0.0266\n",
            "Epoch 126/200\n",
            "13/13 [==============================] - 0s 38ms/step - loss: 0.0514 - mean_absolute_error: 0.0327 - val_loss: 0.0432 - val_mean_absolute_error: 0.0265\n",
            "Epoch 127/200\n",
            "13/13 [==============================] - 0s 37ms/step - loss: 0.0428 - mean_absolute_error: 0.0257 - val_loss: 0.0478 - val_mean_absolute_error: 0.0288\n",
            "Epoch 128/200\n",
            "13/13 [==============================] - 0s 37ms/step - loss: 0.0495 - mean_absolute_error: 0.0311 - val_loss: 0.0431 - val_mean_absolute_error: 0.0270\n",
            "Epoch 129/200\n",
            "13/13 [==============================] - 0s 37ms/step - loss: 0.0447 - mean_absolute_error: 0.0271 - val_loss: 0.0454 - val_mean_absolute_error: 0.0274\n",
            "Epoch 130/200\n",
            "13/13 [==============================] - 0s 36ms/step - loss: 0.0494 - mean_absolute_error: 0.0310 - val_loss: 0.0390 - val_mean_absolute_error: 0.0232\n",
            "Epoch 131/200\n",
            "13/13 [==============================] - 0s 37ms/step - loss: 0.0464 - mean_absolute_error: 0.0291 - val_loss: 0.0500 - val_mean_absolute_error: 0.0305\n",
            "Epoch 132/200\n",
            "13/13 [==============================] - 0s 37ms/step - loss: 0.0488 - mean_absolute_error: 0.0307 - val_loss: 0.0403 - val_mean_absolute_error: 0.0238\n",
            "Epoch 133/200\n",
            "13/13 [==============================] - 0s 37ms/step - loss: 0.0458 - mean_absolute_error: 0.0280 - val_loss: 0.0598 - val_mean_absolute_error: 0.0398\n",
            "Epoch 134/200\n",
            "13/13 [==============================] - 0s 38ms/step - loss: 0.0467 - mean_absolute_error: 0.0291 - val_loss: 0.0446 - val_mean_absolute_error: 0.0282\n",
            "Epoch 135/200\n",
            "13/13 [==============================] - 0s 37ms/step - loss: 0.0427 - mean_absolute_error: 0.0252 - val_loss: 0.0630 - val_mean_absolute_error: 0.0459\n",
            "Epoch 136/200\n",
            "13/13 [==============================] - 0s 37ms/step - loss: 0.0524 - mean_absolute_error: 0.0341 - val_loss: 0.0368 - val_mean_absolute_error: 0.0208\n",
            "Epoch 137/200\n",
            "13/13 [==============================] - 0s 38ms/step - loss: 0.0456 - mean_absolute_error: 0.0283 - val_loss: 0.0521 - val_mean_absolute_error: 0.0314\n",
            "Epoch 138/200\n",
            "13/13 [==============================] - 0s 37ms/step - loss: 0.0458 - mean_absolute_error: 0.0281 - val_loss: 0.0376 - val_mean_absolute_error: 0.0215\n",
            "Epoch 139/200\n",
            "13/13 [==============================] - 0s 37ms/step - loss: 0.0489 - mean_absolute_error: 0.0306 - val_loss: 0.0843 - val_mean_absolute_error: 0.0504\n",
            "Epoch 140/200\n",
            "13/13 [==============================] - 0s 37ms/step - loss: 0.0433 - mean_absolute_error: 0.0262 - val_loss: 0.0432 - val_mean_absolute_error: 0.0278\n",
            "Epoch 141/200\n",
            "13/13 [==============================] - 0s 37ms/step - loss: 0.0480 - mean_absolute_error: 0.0301 - val_loss: 0.0534 - val_mean_absolute_error: 0.0321\n",
            "Epoch 142/200\n",
            "13/13 [==============================] - 0s 37ms/step - loss: 0.0453 - mean_absolute_error: 0.0281 - val_loss: 0.0456 - val_mean_absolute_error: 0.0292\n",
            "Epoch 143/200\n",
            "13/13 [==============================] - 0s 37ms/step - loss: 0.0502 - mean_absolute_error: 0.0315 - val_loss: 0.0509 - val_mean_absolute_error: 0.0327\n",
            "Epoch 144/200\n",
            "13/13 [==============================] - 0s 37ms/step - loss: 0.0407 - mean_absolute_error: 0.0245 - val_loss: 0.0446 - val_mean_absolute_error: 0.0270\n",
            "Epoch 145/200\n",
            "13/13 [==============================] - 0s 37ms/step - loss: 0.0510 - mean_absolute_error: 0.0322 - val_loss: 0.0392 - val_mean_absolute_error: 0.0232\n",
            "Epoch 146/200\n",
            "13/13 [==============================] - 0s 37ms/step - loss: 0.0401 - mean_absolute_error: 0.0237 - val_loss: 0.0417 - val_mean_absolute_error: 0.0235\n",
            "Epoch 147/200\n",
            "13/13 [==============================] - 0s 37ms/step - loss: 0.0521 - mean_absolute_error: 0.0339 - val_loss: 0.0404 - val_mean_absolute_error: 0.0237\n",
            "Epoch 148/200\n",
            "13/13 [==============================] - 0s 37ms/step - loss: 0.0414 - mean_absolute_error: 0.0245 - val_loss: 0.0563 - val_mean_absolute_error: 0.0392\n",
            "Epoch 149/200\n",
            "13/13 [==============================] - 0s 38ms/step - loss: 0.0491 - mean_absolute_error: 0.0314 - val_loss: 0.0362 - val_mean_absolute_error: 0.0196\n",
            "Epoch 150/200\n",
            "13/13 [==============================] - 0s 37ms/step - loss: 0.0454 - mean_absolute_error: 0.0281 - val_loss: 0.0722 - val_mean_absolute_error: 0.0530\n",
            "Epoch 151/200\n",
            "13/13 [==============================] - 0s 38ms/step - loss: 0.0454 - mean_absolute_error: 0.0282 - val_loss: 0.0418 - val_mean_absolute_error: 0.0243\n",
            "Epoch 152/200\n",
            "13/13 [==============================] - 0s 38ms/step - loss: 0.0493 - mean_absolute_error: 0.0312 - val_loss: 0.0445 - val_mean_absolute_error: 0.0269\n",
            "Epoch 153/200\n",
            "13/13 [==============================] - 0s 38ms/step - loss: 0.0400 - mean_absolute_error: 0.0235 - val_loss: 0.0475 - val_mean_absolute_error: 0.0303\n",
            "Epoch 154/200\n",
            "13/13 [==============================] - 0s 38ms/step - loss: 0.0494 - mean_absolute_error: 0.0312 - val_loss: 0.0393 - val_mean_absolute_error: 0.0232\n",
            "Epoch 155/200\n",
            "13/13 [==============================] - 0s 38ms/step - loss: 0.0413 - mean_absolute_error: 0.0247 - val_loss: 0.0467 - val_mean_absolute_error: 0.0286\n",
            "Epoch 156/200\n",
            "13/13 [==============================] - 0s 38ms/step - loss: 0.0500 - mean_absolute_error: 0.0321 - val_loss: 0.0415 - val_mean_absolute_error: 0.0260\n",
            "Epoch 157/200\n",
            "13/13 [==============================] - 0s 38ms/step - loss: 0.0428 - mean_absolute_error: 0.0259 - val_loss: 0.0457 - val_mean_absolute_error: 0.0281\n",
            "Epoch 158/200\n",
            "13/13 [==============================] - 0s 38ms/step - loss: 0.0465 - mean_absolute_error: 0.0290 - val_loss: 0.0417 - val_mean_absolute_error: 0.0256\n",
            "Epoch 159/200\n",
            "13/13 [==============================] - 0s 38ms/step - loss: 0.0454 - mean_absolute_error: 0.0284 - val_loss: 0.0620 - val_mean_absolute_error: 0.0418\n",
            "Epoch 160/200\n",
            "13/13 [==============================] - 0s 38ms/step - loss: 0.0456 - mean_absolute_error: 0.0283 - val_loss: 0.0441 - val_mean_absolute_error: 0.0277\n",
            "Epoch 161/200\n",
            "13/13 [==============================] - 0s 38ms/step - loss: 0.0411 - mean_absolute_error: 0.0242 - val_loss: 0.0372 - val_mean_absolute_error: 0.0204\n",
            "Epoch 162/200\n",
            "13/13 [==============================] - 0s 38ms/step - loss: 0.0541 - mean_absolute_error: 0.0359 - val_loss: 0.0414 - val_mean_absolute_error: 0.0262\n",
            "Epoch 163/200\n",
            "13/13 [==============================] - 0s 38ms/step - loss: 0.0424 - mean_absolute_error: 0.0263 - val_loss: 0.0459 - val_mean_absolute_error: 0.0275\n",
            "Epoch 164/200\n",
            "13/13 [==============================] - 0s 38ms/step - loss: 0.0489 - mean_absolute_error: 0.0312 - val_loss: 0.0500 - val_mean_absolute_error: 0.0327\n",
            "Epoch 165/200\n",
            "13/13 [==============================] - 0s 37ms/step - loss: 0.0388 - mean_absolute_error: 0.0222 - val_loss: 0.0447 - val_mean_absolute_error: 0.0281\n",
            "Epoch 166/200\n",
            "13/13 [==============================] - 0s 37ms/step - loss: 0.0517 - mean_absolute_error: 0.0339 - val_loss: 0.0383 - val_mean_absolute_error: 0.0220\n",
            "Epoch 167/200\n",
            "13/13 [==============================] - 0s 37ms/step - loss: 0.0401 - mean_absolute_error: 0.0236 - val_loss: 0.0549 - val_mean_absolute_error: 0.0380\n",
            "Epoch 168/200\n",
            "13/13 [==============================] - 0s 37ms/step - loss: 0.0478 - mean_absolute_error: 0.0302 - val_loss: 0.0366 - val_mean_absolute_error: 0.0205\n",
            "Epoch 169/200\n",
            "13/13 [==============================] - 0s 37ms/step - loss: 0.0431 - mean_absolute_error: 0.0265 - val_loss: 0.0554 - val_mean_absolute_error: 0.0353\n",
            "Epoch 170/200\n",
            "13/13 [==============================] - 0s 37ms/step - loss: 0.0442 - mean_absolute_error: 0.0272 - val_loss: 0.0526 - val_mean_absolute_error: 0.0374\n",
            "Epoch 171/200\n",
            "13/13 [==============================] - 0s 37ms/step - loss: 0.0495 - mean_absolute_error: 0.0318 - val_loss: 0.0399 - val_mean_absolute_error: 0.0234\n",
            "Epoch 172/200\n",
            "13/13 [==============================] - 0s 38ms/step - loss: 0.0403 - mean_absolute_error: 0.0240 - val_loss: 0.0486 - val_mean_absolute_error: 0.0311\n",
            "Epoch 173/200\n",
            "13/13 [==============================] - 0s 37ms/step - loss: 0.0465 - mean_absolute_error: 0.0292 - val_loss: 0.0410 - val_mean_absolute_error: 0.0243\n",
            "Epoch 174/200\n",
            "13/13 [==============================] - 0s 37ms/step - loss: 0.0432 - mean_absolute_error: 0.0264 - val_loss: 0.0434 - val_mean_absolute_error: 0.0270\n",
            "Epoch 175/200\n",
            "13/13 [==============================] - 0s 37ms/step - loss: 0.0485 - mean_absolute_error: 0.0312 - val_loss: 0.0414 - val_mean_absolute_error: 0.0246\n",
            "Epoch 176/200\n",
            "13/13 [==============================] - 0s 37ms/step - loss: 0.0390 - mean_absolute_error: 0.0225 - val_loss: 0.0521 - val_mean_absolute_error: 0.0355\n",
            "Epoch 177/200\n",
            "13/13 [==============================] - 0s 37ms/step - loss: 0.0508 - mean_absolute_error: 0.0334 - val_loss: 0.0382 - val_mean_absolute_error: 0.0218\n",
            "Epoch 178/200\n",
            "13/13 [==============================] - 0s 38ms/step - loss: 0.0418 - mean_absolute_error: 0.0252 - val_loss: 0.0471 - val_mean_absolute_error: 0.0306\n",
            "Epoch 179/200\n",
            "13/13 [==============================] - 0s 37ms/step - loss: 0.0474 - mean_absolute_error: 0.0300 - val_loss: 0.0361 - val_mean_absolute_error: 0.0200\n",
            "Epoch 180/200\n",
            "13/13 [==============================] - 0s 38ms/step - loss: 0.0397 - mean_absolute_error: 0.0233 - val_loss: 0.0488 - val_mean_absolute_error: 0.0314\n",
            "Epoch 181/200\n",
            "13/13 [==============================] - 0s 38ms/step - loss: 0.0487 - mean_absolute_error: 0.0314 - val_loss: 0.0442 - val_mean_absolute_error: 0.0282\n",
            "Epoch 182/200\n",
            "13/13 [==============================] - 0s 37ms/step - loss: 0.0415 - mean_absolute_error: 0.0250 - val_loss: 0.0440 - val_mean_absolute_error: 0.0268\n",
            "Epoch 183/200\n",
            "13/13 [==============================] - 0s 38ms/step - loss: 0.0481 - mean_absolute_error: 0.0307 - val_loss: 0.0394 - val_mean_absolute_error: 0.0238\n",
            "Epoch 184/200\n",
            "13/13 [==============================] - 0s 37ms/step - loss: 0.0400 - mean_absolute_error: 0.0237 - val_loss: 0.0394 - val_mean_absolute_error: 0.0223\n",
            "Epoch 185/200\n",
            "13/13 [==============================] - 0s 37ms/step - loss: 0.0508 - mean_absolute_error: 0.0331 - val_loss: 0.0473 - val_mean_absolute_error: 0.0302\n",
            "Epoch 186/200\n",
            "13/13 [==============================] - 0s 37ms/step - loss: 0.0388 - mean_absolute_error: 0.0231 - val_loss: 0.0425 - val_mean_absolute_error: 0.0252\n",
            "Epoch 187/200\n",
            "13/13 [==============================] - 0s 37ms/step - loss: 0.0483 - mean_absolute_error: 0.0310 - val_loss: 0.0467 - val_mean_absolute_error: 0.0292\n",
            "Epoch 188/200\n",
            "13/13 [==============================] - 0s 37ms/step - loss: 0.0399 - mean_absolute_error: 0.0235 - val_loss: 0.0402 - val_mean_absolute_error: 0.0234\n",
            "Epoch 189/200\n",
            "13/13 [==============================] - 0s 37ms/step - loss: 0.0494 - mean_absolute_error: 0.0321 - val_loss: 0.0367 - val_mean_absolute_error: 0.0208\n",
            "Epoch 190/200\n",
            "13/13 [==============================] - 0s 37ms/step - loss: 0.0392 - mean_absolute_error: 0.0229 - val_loss: 0.0443 - val_mean_absolute_error: 0.0276\n",
            "Epoch 191/200\n",
            "13/13 [==============================] - 0s 37ms/step - loss: 0.0499 - mean_absolute_error: 0.0326 - val_loss: 0.0372 - val_mean_absolute_error: 0.0214\n",
            "Epoch 192/200\n",
            "13/13 [==============================] - 0s 37ms/step - loss: 0.0417 - mean_absolute_error: 0.0255 - val_loss: 0.0479 - val_mean_absolute_error: 0.0308\n",
            "Epoch 193/200\n",
            "13/13 [==============================] - 0s 37ms/step - loss: 0.0448 - mean_absolute_error: 0.0279 - val_loss: 0.0493 - val_mean_absolute_error: 0.0332\n",
            "Epoch 194/200\n",
            "13/13 [==============================] - 0s 37ms/step - loss: 0.0434 - mean_absolute_error: 0.0269 - val_loss: 0.0466 - val_mean_absolute_error: 0.0280\n",
            "Epoch 195/200\n",
            "13/13 [==============================] - 0s 37ms/step - loss: 0.0441 - mean_absolute_error: 0.0273 - val_loss: 0.0444 - val_mean_absolute_error: 0.0292\n",
            "Epoch 196/200\n",
            "13/13 [==============================] - 0s 37ms/step - loss: 0.0431 - mean_absolute_error: 0.0265 - val_loss: 0.0563 - val_mean_absolute_error: 0.0377\n",
            "Epoch 197/200\n",
            "13/13 [==============================] - 0s 37ms/step - loss: 0.0447 - mean_absolute_error: 0.0279 - val_loss: 0.0397 - val_mean_absolute_error: 0.0237\n",
            "Epoch 198/200\n",
            "13/13 [==============================] - 0s 38ms/step - loss: 0.0461 - mean_absolute_error: 0.0291 - val_loss: 0.0667 - val_mean_absolute_error: 0.0450\n",
            "Epoch 199/200\n",
            "13/13 [==============================] - 0s 38ms/step - loss: 0.0411 - mean_absolute_error: 0.0249 - val_loss: 0.0390 - val_mean_absolute_error: 0.0231\n",
            "Epoch 200/200\n",
            "13/13 [==============================] - 0s 37ms/step - loss: 0.0458 - mean_absolute_error: 0.0289 - val_loss: 0.0587 - val_mean_absolute_error: 0.0396\n"
          ],
          "name": "stdout"
        }
      ]
    },
    {
      "cell_type": "code",
      "metadata": {
        "id": "cbhccwI3dxuc",
        "colab_type": "code",
        "colab": {
          "base_uri": "https://localhost:8080/",
          "height": 317
        },
        "outputId": "9713bbf1-c93f-4f23-e0af-f3ffd56b885b"
      },
      "source": [
        "N = EPOCHS\n",
        "plt.style.use(\"ggplot\")\n",
        "plt.figure()\n",
        "plt.plot(np.arange(0, N), H.history[\"loss\"], label=\"train_loss\")\n",
        "plt.plot(np.arange(0, N), H.history[\"val_loss\"], label=\"val_loss\")\n",
        "#plt.plot(np.arange(0, N), H.history[\"mean_absolute_error\"], label=\"train_acc\")\n",
        "#plt.plot(np.arange(0, N), H.history[\"val_mean_absolute_error\"], label=\"val_acc\")\n",
        "plt.title(\"Training Loss  on dataset\")\n",
        "plt.xlabel(\"Epoch #\")\n",
        "plt.ylabel(\"Loss/Accuracy\")\n",
        "plt.legend(loc=\"upper right\")"
      ],
      "execution_count": null,
      "outputs": [
        {
          "output_type": "execute_result",
          "data": {
            "text/plain": [
              "<matplotlib.legend.Legend at 0x7f9d2c436198>"
            ]
          },
          "metadata": {
            "tags": []
          },
          "execution_count": 14
        },
        {
          "output_type": "display_data",
          "data": {
            "image/png": "[encoded data removed]",
            "text/plain": [
              "<Figure size 432x288 with 1 Axes>"
            ]
          },
          "metadata": {
            "tags": []
          }
        }
      ]
    },
    {
      "cell_type": "code",
      "metadata": {
        "id": "88VkdOzYquQE",
        "colab_type": "code",
        "colab": {
          "base_uri": "https://localhost:8080/",
          "height": 35
        },
        "outputId": "8486940d-4cfe-4b04-f80a-acfb36c99c25"
      },
      "source": [
        "# evaluate the model\n",
        "mse, mae = model.evaluate(X_test, y_test, verbose=0)\n",
        "\n",
        "# calculate the mean absolute error (inverse scaling)\n",
        "mean_absolute_error = data[\"column_scaler\"][\"adjclose\"].inverse_transform([[mae]])[0][0]\n",
        "print(\"Mean Absolute Error:\", mean_absolute_error)"
      ],
      "execution_count": null,
      "outputs": [
        {
          "output_type": "stream",
          "text": [
            "Mean Absolute Error: 12.406585020359277\n"
          ],
          "name": "stdout"
        }
      ]
    },
    {
      "cell_type": "code",
      "metadata": {
        "id": "TAArsY8PsPlE",
        "colab_type": "code",
        "colab": {
          "base_uri": "https://localhost:8080/",
          "height": 52
        },
        "outputId": "e74b505a-2677-4887-e063-8d30f720c120"
      },
      "source": [
        "print (mae)\n",
        "print (mse)"
      ],
      "execution_count": null,
      "outputs": [
        {
          "output_type": "stream",
          "text": [
            "0.03955680504441261\n",
            "0.058678168803453445\n"
          ],
          "name": "stdout"
        }
      ]
    },
    {
      "cell_type": "code",
      "metadata": {
        "id": "bGxsfbDArOUt",
        "colab_type": "code",
        "colab": {
          "base_uri": "https://localhost:8080/",
          "height": 35
        },
        "outputId": "d55ab8ea-5173-4c39-823e-0a200871108e"
      },
      "source": [
        "# retrieve the last sequence from data\n",
        "last_sequence = data[\"last_sequence\"][:N_STEPS]\n",
        "# retrieve the column scalers\n",
        "column_scaler = data[\"column_scaler\"]\n",
        "print (last_sequence.shape)"
      ],
      "execution_count": null,
      "outputs": [
        {
          "output_type": "stream",
          "text": [
            "(50, 5)\n"
          ],
          "name": "stdout"
        }
      ]
    },
    {
      "cell_type": "code",
      "metadata": {
        "id": "y2OKbSqCrZqk",
        "colab_type": "code",
        "colab": {
          "base_uri": "https://localhost:8080/",
          "height": 35
        },
        "outputId": "c2cd03dc-af61-4d6d-fef9-d976c6709f99"
      },
      "source": [
        "last_sequence = last_sequence.reshape((last_sequence.shape[1], last_sequence.shape[0]))\n",
        "last_sequence = np.expand_dims(last_sequence, axis=0)\n",
        "print (last_sequence.shape)"
      ],
      "execution_count": null,
      "outputs": [
        {
          "output_type": "stream",
          "text": [
            "(1, 5, 50)\n"
          ],
          "name": "stdout"
        }
      ]
    },
    {
      "cell_type": "code",
      "metadata": {
        "id": "kEZECVL3rnFp",
        "colab_type": "code",
        "colab": {
          "base_uri": "https://localhost:8080/",
          "height": 70
        },
        "outputId": "1a364d7a-2e77-4721-be7b-68141e3c1295"
      },
      "source": [
        "prediction = model.predict(last_sequence)\n",
        "prediction = prediction+mse-mae\n",
        "predicted_price = column_scaler[\"adjclose\"].inverse_transform(prediction)[0][0]\n",
        "print(predicted_price)\n",
        "print(predicted_price+mean_absolute_error)\n",
        "print(predicted_price-mean_absolute_error)"
      ],
      "execution_count": null,
      "outputs": [
        {
          "output_type": "stream",
          "text": [
            "213.54152\n",
            "225.94810418539834\n",
            "201.1349341446798\n"
          ],
          "name": "stdout"
        }
      ]
    },
    {
      "cell_type": "code",
      "metadata": {
        "id": "cqnUgBeSsQpV",
        "colab_type": "code",
        "colab": {
          "base_uri": "https://localhost:8080/",
          "height": 282
        },
        "outputId": "b4a626a9-d799-47e8-d471-3d4fac5e24da"
      },
      "source": [
        "y_test = data[\"y_test\"]\n",
        "X_test = data[\"X_test\"]\n",
        "\n",
        "y_pred = model.predict(X_test)\n",
        "y_pred = y_pred+mse\n",
        "y_test = np.squeeze(data[\"column_scaler\"][\"adjclose\"].inverse_transform(np.expand_dims(y_test, axis=0)))\n",
        "y_pred = np.squeeze(data[\"column_scaler\"][\"adjclose\"].inverse_transform(y_pred))\n",
        "# last 200 days, feel free to edit that\n",
        "plt.plot(y_test[-10:], c='b')\n",
        "plt.plot(y_pred[-10:], c='r')\n",
        "plt.xlabel(\"Days\")\n",
        "plt.ylabel(\"Price\")\n",
        "plt.legend([\"Actual Price\", \"Predicted Price\"])\n",
        "plt.show()\n"
      ],
      "execution_count": null,
      "outputs": [
        {
          "output_type": "display_data",
          "data": {
            "image/png": "[encoded data removed]",
            "text/plain": [
              "<Figure size 432x288 with 1 Axes>"
            ]
          },
          "metadata": {
            "tags": []
          }
        }
      ]
    },
    {
      "cell_type": "code",
      "metadata": {
        "id": "IL0yIaz9uOtC",
        "colab_type": "code",
        "colab": {}
      },
      "source": [
        ""
      ],
      "execution_count": null,
      "outputs": []
    }
  ]
}